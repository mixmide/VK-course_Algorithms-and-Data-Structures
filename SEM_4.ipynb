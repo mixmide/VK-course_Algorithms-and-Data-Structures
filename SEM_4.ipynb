{
  "nbformat": 4,
  "nbformat_minor": 0,
  "metadata": {
    "colab": {
      "provenance": [],
      "toc_visible": true
    },
    "kernelspec": {
      "name": "python3",
      "display_name": "Python 3"
    },
    "language_info": {
      "name": "python"
    }
  },
  "cells": [
    {
      "cell_type": "markdown",
      "source": [
        "# Семинар 4: разбор задач"
      ],
      "metadata": {
        "id": "Dq9txrP0J1FX"
      }
    },
    {
      "cell_type": "markdown",
      "source": [
        "### Задача 1\n",
        "\n",
        "Необходимо реализовать функцию,\n",
        "которая будет принимать на вход\n",
        "массив и выстраивать из него\n",
        "бинарное дерево."
      ],
      "metadata": {
        "id": "CcwfkqLVJ5Xp"
      }
    },
    {
      "cell_type": "code",
      "execution_count": 3,
      "metadata": {
        "id": "KoBtqnY2Gny2"
      },
      "outputs": [],
      "source": [
        "class TreeNode:\n",
        "    def __init__(self, val=0, left=None, right=None):\n",
        "        self.data = val\n",
        "        self.left = left\n",
        "        self.right = right\n",
        "\n",
        "def build_tree(arr, i=0):\n",
        "    if i >= len(arr) or arr[i] is None:\n",
        "        return None\n",
        "    root = TreeNode(arr[i])\n",
        "    root.left = build_tree(arr, 2 * i + 1)\n",
        "    root.right = build_tree(arr, 2 * i + 2)\n",
        "    return root\n",
        "\n",
        "\n",
        "tree = build_tree([1, 2, 3, 4, 5, 6]) # для примера"
      ]
    },
    {
      "cell_type": "markdown",
      "source": [
        "### Задача 2\n",
        "\n",
        "На вход функции подается\n",
        "бинарное дерево.\n",
        "Необходимо понять, является ли\n",
        "это дерево симметричным."
      ],
      "metadata": {
        "id": "SrmjT7oJl5Ky"
      }
    },
    {
      "cell_type": "code",
      "source": [
        "class TreeNode:\n",
        "    def __init__(self, data, left=None, right=None):\n",
        "        self.data = data\n",
        "        self.left = left\n",
        "        self.right = right\n",
        "\n",
        "def is_symmetric(root):\n",
        "    if root is None:\n",
        "        return True\n",
        "\n",
        "    queue = [root]\n",
        "\n",
        "    while queue:\n",
        "        queue_len = len(queue)\n",
        "        for i in range(queue_len):\n",
        "            left_node = queue[i]\n",
        "            right_node = queue[queue_len - i - 1]\n",
        "\n",
        "            if left_node is None and right_node is None:\n",
        "                continue\n",
        "            if left_node is None or right_node is None or left_node.data != right_node.data:\n",
        "                return False\n",
        "\n",
        "        for i in range(queue_len):\n",
        "            node = queue[i]\n",
        "            if node is not None:\n",
        "                queue.append(node.left)\n",
        "                queue.append(node.right)\n",
        "        queue = queue[queue_len:]\n",
        "\n",
        "    return True\n",
        "\n",
        "#ТЕСТ\n",
        "node3_left = TreeNode(3)\n",
        "node4_left = TreeNode(4)\n",
        "node3_right = TreeNode(3)\n",
        "node4_right = TreeNode(4)\n",
        "node2_left = TreeNode(2, left=node3_left, right=node4_left)\n",
        "node2_right = TreeNode(2, left=node4_right, right=node3_right)\n",
        "root_sym = TreeNode(1, left=node2_left, right=node2_right)\n",
        "print(is_symmetric(root_sym))  #True"
      ],
      "metadata": {
        "colab": {
          "base_uri": "https://localhost:8080/"
        },
        "id": "05SzCVJVl5Ws",
        "outputId": "92aea443-2b62-41b9-953b-7bc7f7ff96d5"
      },
      "execution_count": 17,
      "outputs": [
        {
          "output_type": "stream",
          "name": "stdout",
          "text": [
            "True\n"
          ]
        }
      ]
    },
    {
      "cell_type": "markdown",
      "source": [
        "### Задача 3\n",
        "\n",
        "На вход функции подается бинарное\n",
        "дерево. Необходимо найти минимальную\n",
        "глубину дерева.\n",
        "Минимальная глубина — это количество\n",
        "узлов на кратчайшем пути от корневого\n",
        "узла до ближайшего листового узла."
      ],
      "metadata": {
        "id": "RoPbWrFSl5gy"
      }
    },
    {
      "cell_type": "code",
      "source": [
        "class TreeNode:\n",
        "    def __init__(self, val=0, left=None, right=None):\n",
        "        self.val = val\n",
        "        self.left = left\n",
        "        self.right = right\n",
        "\n",
        "def min_depth(root):\n",
        "    if root is None:\n",
        "        return 0\n",
        "\n",
        "    # если узел лист\n",
        "    if root.left is None and root.right is None:\n",
        "        return 1\n",
        "\n",
        "    if root.left is not None and root.right is not None:\n",
        "        return 1 + min(min_depth(root.left), min_depth(root.right))\n",
        "\n",
        "    if root.left is not None:\n",
        "        return 1 + min_depth(root.left)\n",
        "\n",
        "    if root.right is not None:\n",
        "        return 1 + min_depth(root.right)\n",
        "\n",
        "#тест\n",
        "node4 = TreeNode(4)\n",
        "node2 = TreeNode(2, left=node4)\n",
        "node3 = TreeNode(3)\n",
        "root = TreeNode(1, left=node2, right=node3)\n",
        "print(\"Минимальная глубина дерева:::\", min_depth(root))"
      ],
      "metadata": {
        "colab": {
          "base_uri": "https://localhost:8080/"
        },
        "id": "0x1vFXRnl7Sk",
        "outputId": "a72370ab-739e-49f3-b0d9-8a0525b9880f"
      },
      "execution_count": 14,
      "outputs": [
        {
          "output_type": "stream",
          "name": "stdout",
          "text": [
            "Минимальная глубина дерева::: 2\n"
          ]
        }
      ]
    },
    {
      "cell_type": "markdown",
      "source": [
        "### Задача 4\n",
        "\n",
        "Дано бинарное дерево поиска в виде массива. Необходимо найти\n",
        "произведение минимального и максимального значений."
      ],
      "metadata": {
        "id": "Z-bMeLtGq5Z2"
      }
    },
    {
      "cell_type": "code",
      "source": [
        "def max_min_multiplication(data):\n",
        "    if len(data) < 3:\n",
        "        return -1\n",
        "    min_index = 1\n",
        "    max_index = 2\n",
        "    i = 1\n",
        "    while i < len(data):\n",
        "        min_index = i\n",
        "        i = 2 * i + 1\n",
        "    i = 2\n",
        "    while i < len(data):\n",
        "        max_index = i\n",
        "        i = 2 * i + 2\n",
        "    return data[min_index] * data[max_index]\n",
        "\n",
        "#тест\n",
        "print(max_min_multiplication([10, 5, 20, 3, 7, 15, 30, 1])) #1*30=30"
      ],
      "metadata": {
        "colab": {
          "base_uri": "https://localhost:8080/"
        },
        "id": "9wfqh8q3q5kh",
        "outputId": "37c5f89f-e2b3-4656-b170-a792576a22f6"
      },
      "execution_count": 18,
      "outputs": [
        {
          "output_type": "stream",
          "name": "stdout",
          "text": [
            "30\n"
          ]
        }
      ]
    },
    {
      "cell_type": "markdown",
      "source": [
        "### Задача 5\n",
        "\n",
        "На вход функции подается 2 бинарных дерева.\n",
        "Необходимо понять, являются ли эти два дерева одинаковыми.\n"
      ],
      "metadata": {
        "id": "Kiy497frrVoM"
      }
    },
    {
      "cell_type": "code",
      "source": [
        "class TreeNode:\n",
        "    def __init__(self, data, left=None, right=None):\n",
        "        self.data = data\n",
        "        self.left = left\n",
        "        self.right = right\n",
        "\n",
        "def is_same_tree(a, b):\n",
        "    if a is None and b is None:\n",
        "        return True\n",
        "    if a is None or b is None:\n",
        "        return False\n",
        "    if a.data != b.data:\n",
        "        return False\n",
        "    return is_same_tree(a.left, b.left) and is_same_tree(a.right, b.right)\n",
        "\n",
        "#ТЕСТ\n",
        "tree1 = TreeNode(1, TreeNode(2), TreeNode(3))\n",
        "tree2 = TreeNode(1, TreeNode(2), TreeNode(3))\n",
        "print(is_same_tree(tree1, tree2))\n"
      ],
      "metadata": {
        "colab": {
          "base_uri": "https://localhost:8080/"
        },
        "id": "zS6tZ8UarVzn",
        "outputId": "665dfdd6-fbc7-445f-f86b-12fefb9429fd"
      },
      "execution_count": 20,
      "outputs": [
        {
          "output_type": "stream",
          "name": "stdout",
          "text": [
            "True\n"
          ]
        }
      ]
    },
    {
      "cell_type": "markdown",
      "source": [
        "### Задача 6\n",
        "\n",
        "На вход функции подается два бинарных дерева. Необходимо\n",
        "вернуть true, если дерево B является поддеревом для A."
      ],
      "metadata": {
        "id": "RAEBEHdYrvvZ"
      }
    },
    {
      "cell_type": "code",
      "source": [
        "class TreeNode:\n",
        "    def __init__(self, data, left=None, right=None):\n",
        "        self.data = data\n",
        "        self.left = left\n",
        "        self.right = right\n",
        "\n",
        "def is_same_tree(a, b):\n",
        "    if a is None and b is None:\n",
        "        return True\n",
        "    if a is None or b is None:\n",
        "        return False\n",
        "    if a.data != b.data:\n",
        "        return False\n",
        "    return is_same_tree(a.left, b.left) and is_same_tree(a.right, b.right)\n",
        "\n",
        "def is_subtree(A, B):\n",
        "    if B is None:\n",
        "        return True\n",
        "    if A is None:\n",
        "        return False\n",
        "    if is_same_tree(A, B):\n",
        "        return True\n",
        "    return is_subtree(A.left, B) or is_subtree(A.right, B)\n",
        "\n",
        "\n",
        "\n",
        "A = TreeNode(1, TreeNode(2, TreeNode(4), TreeNode(5)), TreeNode(3))\n",
        "B = TreeNode(2, TreeNode(4), TreeNode(5))\n",
        "print(is_subtree(A, B))"
      ],
      "metadata": {
        "colab": {
          "base_uri": "https://localhost:8080/"
        },
        "id": "RrbIufUorv6z",
        "outputId": "07fdfc18-8625-43a6-ad1a-31ee656f9437"
      },
      "execution_count": 22,
      "outputs": [
        {
          "output_type": "stream",
          "name": "stdout",
          "text": [
            "True\n"
          ]
        }
      ]
    },
    {
      "cell_type": "markdown",
      "source": [
        "### Задача 7\n",
        "\n",
        "Дано бинарное дерево. Необходимо подсчитать количество\n",
        "зеркальных узлов в нем."
      ],
      "metadata": {
        "id": "FNurkgqKsDkw"
      }
    },
    {
      "cell_type": "code",
      "source": [
        "class TreeNode:\n",
        "    def __init__(self, val, left=None, right=None):\n",
        "        self.val = val\n",
        "        self.left = left\n",
        "        self.right = right\n",
        "\n",
        "def dfs(left, right):\n",
        "    if left is None or right is None:\n",
        "        return 0\n",
        "    count = 1 if left.val == right.val else 0\n",
        "    count += dfs(left.left, right.right)\n",
        "    count += dfs(left.right, right.left)\n",
        "    return count\n",
        "\n",
        "def count_mirror_twins(root):\n",
        "    if root is None:\n",
        "        return 0\n",
        "    return dfs(root.left, root.right)\n",
        "\n",
        "\n",
        "\n",
        "# ТЕСТ\n",
        "root = TreeNode(1,\n",
        "            TreeNode(2,\n",
        "                TreeNode(3),\n",
        "                TreeNode(4)\n",
        "            ),\n",
        "            TreeNode(2,\n",
        "                TreeNode(4),\n",
        "                TreeNode(3)\n",
        "            )\n",
        "        )\n",
        "print(count_mirror_twins(root))"
      ],
      "metadata": {
        "colab": {
          "base_uri": "https://localhost:8080/"
        },
        "id": "o469_qOSsDvp",
        "outputId": "61c86e41-e519-465e-ec4d-ef436f609f74"
      },
      "execution_count": 23,
      "outputs": [
        {
          "output_type": "stream",
          "name": "stdout",
          "text": [
            "3\n"
          ]
        }
      ]
    }
  ]
}