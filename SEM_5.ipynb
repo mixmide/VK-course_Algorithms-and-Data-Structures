{
  "nbformat": 4,
  "nbformat_minor": 0,
  "metadata": {
    "colab": {
      "provenance": [],
      "toc_visible": true
    },
    "kernelspec": {
      "name": "python3",
      "display_name": "Python 3"
    },
    "language_info": {
      "name": "python"
    }
  },
  "cells": [
    {
      "cell_type": "markdown",
      "source": [
        "# Семинар 5: разбор задач"
      ],
      "metadata": {
        "id": "Dq9txrP0J1FX"
      }
    },
    {
      "cell_type": "markdown",
      "source": [
        "### Задача 1\n",
        "\n",
        "Напишите функцию, которая проверяет, является\n",
        "ли заданный массив корректной кучей (минимум\n",
        "или максимум). Алгоритм должен проверить, что\n",
        "все узлы удовлетворяют свойству кучи."
      ],
      "metadata": {
        "id": "CcwfkqLVJ5Xp"
      }
    },
    {
      "cell_type": "code",
      "execution_count": 2,
      "metadata": {
        "id": "KoBtqnY2Gny2",
        "colab": {
          "base_uri": "https://localhost:8080/"
        },
        "outputId": "de12bf77-d224-498e-cef1-2088c9bc0a27"
      },
      "outputs": [
        {
          "output_type": "stream",
          "name": "stdout",
          "text": [
            "Массив: [10, 8, 9, 5, 6, 7, 4]\n",
            "True\n",
            "\n",
            "Массив: [10, 8, 11, 5, 6, 7, 4]\n",
            "False\n"
          ]
        }
      ],
      "source": [
        "def isMaxHeap(arr):\n",
        "    n = len(arr)\n",
        "    #ппроход по родительским узлам\n",
        "    for i in range((n - 2) // 2 + 1):\n",
        "        left = 2 * i + 1\n",
        "        # Если левый/правый дочерний больше родителя, это не макс куча\n",
        "        if left < n and arr[i] < arr[left]:\n",
        "            return False\n",
        "        right = 2 * i + 2\n",
        "        if right < n and arr[i] < arr[right]:\n",
        "            return False\n",
        "    return True\n",
        "\n",
        "# ТЕСТЫ\n",
        "max_heap = [10, 8, 9, 5, 6, 7, 4]\n",
        "print(\"Массив:\", max_heap)\n",
        "print(isMaxHeap(max_heap))\n",
        "not_max_heap = [10, 8, 11, 5, 6, 7, 4]\n",
        "print(\"\\nМассив:\", not_max_heap)\n",
        "print(isMaxHeap(not_max_heap))"
      ]
    },
    {
      "cell_type": "markdown",
      "source": [
        "### Задача 2\n",
        "\n",
        "Полное\n",
        "бинарное\n",
        "дерево - дерево, в котором все уровни, кроме\n",
        "последнего, полностью заполнены, а\n",
        "узлы последнего уровня заполняются\n",
        "слева направо.\n",
        "Необходимо написать функцию, которая\n",
        "проверяет, является ли данное бинарное\n",
        "дерево полным."
      ],
      "metadata": {
        "id": "SrmjT7oJl5Ky"
      }
    },
    {
      "cell_type": "code",
      "source": [
        "from collections import deque\n",
        "\n",
        "class TreeNode:\n",
        "    def __init__(self, val=0, left=None, right=None):\n",
        "        self.val = val\n",
        "        self.left = left\n",
        "        self.right = right\n",
        "\n",
        "def isCompleteTree(root):\n",
        "    if not root:\n",
        "        return True\n",
        "    queue = deque([root])\n",
        "    seenNull = False\n",
        "    while queue:\n",
        "        node = queue.popleft()\n",
        "        if not node:\n",
        "            seenNull = True\n",
        "        else:\n",
        "            if seenNull:\n",
        "                return False\n",
        "            queue.append(node.left)\n",
        "            queue.append(node.right)\n",
        "\n",
        "    return True\n",
        "\n",
        "\n",
        "# функция создания дерева из списка\n",
        "def build_tree(nodes):\n",
        "    if not nodes:\n",
        "        return None\n",
        "    root = TreeNode(nodes[0])\n",
        "    queue = deque([root])\n",
        "    i = 1\n",
        "    while i < len(nodes):\n",
        "        node = queue.popleft()\n",
        "        if nodes[i] is not None:\n",
        "            node.left = TreeNode(nodes[i])\n",
        "            queue.append(node.left)\n",
        "        i += 1\n",
        "        if i < len(nodes) and nodes[i] is not None:\n",
        "            node.right = TreeNode(nodes[i])\n",
        "            queue.append(node.right)\n",
        "        i += 1\n",
        "    return root\n",
        "\n",
        "\n",
        "\n",
        "\n",
        "#ТЕСТЫ\n",
        "complete_tree = build_tree([1, 2, 3, 4, 5, 6])\n",
        "print(isCompleteTree(complete_tree))  #True\n",
        "\n",
        "incomplete_tree = build_tree([1, 2, 3, 4, None, 6])\n",
        "print(isCompleteTree(incomplete_tree))  #False"
      ],
      "metadata": {
        "colab": {
          "base_uri": "https://localhost:8080/"
        },
        "id": "d0e8wiwKvCv9",
        "outputId": "e167856f-55fc-4b44-c32e-0032f83e29a3"
      },
      "execution_count": 4,
      "outputs": [
        {
          "output_type": "stream",
          "name": "stdout",
          "text": [
            "True\n",
            "False\n"
          ]
        }
      ]
    },
    {
      "cell_type": "markdown",
      "source": [
        "### Задача 3\n",
        "\n",
        "Реализуйте функцию, которая объединяет K\n",
        "отсортированных массивов в один\n",
        "отсортированный массив. Используйте минкучу для хранения наименьших элементов\n",
        "текущих массивов, что позволит извлекать их\n",
        "по очереди, сохраняя порядок."
      ],
      "metadata": {
        "id": "BuaJhre1wchJ"
      }
    },
    {
      "cell_type": "code",
      "source": [
        "import heapq\n",
        "\n",
        "def mergeKSortedArrays(sortedArrays):\n",
        "    # итоговый массив с резами\n",
        "    mergedArray = []\n",
        "    # минкуча\n",
        "    minHeap = []\n",
        "\n",
        "    for i, arr in enumerate(sortedArrays):\n",
        "        if arr:\n",
        "            heapq.heappush(minHeap, (arr[0], i, 0))  # (значение, индекс_массива, индекс_элемента)\n",
        "\n",
        "    #пока не пусто\n",
        "    while minHeap:\n",
        "        value, arrayIdx, elementIdx = heapq.heappop(minHeap)\n",
        "        mergedArray.append(value)\n",
        "\n",
        "        if elementIdx + 1 < len(sortedArrays[arrayIdx]):\n",
        "            nextElement = sortedArrays[arrayIdx][elementIdx + 1]\n",
        "            heapq.heappush(minHeap, (nextElement, arrayIdx, elementIdx + 1))\n",
        "\n",
        "    return mergedArray\n",
        "\n",
        "\n",
        "\n",
        "\n",
        "# тест\n",
        "sortedArrays = [\n",
        "    [1, 4, 7],\n",
        "    [2, 5, 8],\n",
        "    [3, 6, 9]\n",
        "]\n",
        "result = mergeKSortedArrays(sortedArrays)\n",
        "print(result)"
      ],
      "metadata": {
        "colab": {
          "base_uri": "https://localhost:8080/"
        },
        "id": "xbozJD7zwcwg",
        "outputId": "1edc8226-4342-4518-a87d-1a848984ef3c"
      },
      "execution_count": 5,
      "outputs": [
        {
          "output_type": "stream",
          "name": "stdout",
          "text": [
            "[1, 2, 3, 4, 5, 6, 7, 8, 9]\n"
          ]
        }
      ]
    },
    {
      "cell_type": "markdown",
      "source": [
        "### Задача 4\n",
        "\n",
        "На вход функции передается указатель на корень бинарного дерева поиска.\n",
        "Необходимо для каждого узла проставить\n",
        "balance factor\n",
        "\n",
        "*Предполагается, что в структуре узла\n",
        "есть поле balance_factor"
      ],
      "metadata": {
        "id": "fUIxUk2GxQWA"
      }
    },
    {
      "cell_type": "code",
      "source": [
        "class TreeNode:\n",
        "    def __init__(self, val=0, left=None, right=None):\n",
        "        self.val = val\n",
        "        self.left = left\n",
        "        self.right = right\n",
        "        self.balance_factor = 0\n",
        "\n",
        "def calculateHeightsAndBalance(node):\n",
        "    if not node:\n",
        "        return 0\n",
        "\n",
        "    #вычисляем высоты левого/правого поддеревьев\n",
        "    leftHeight = calculateHeightsAndBalance(node.left)\n",
        "    rightHeight = calculateHeightsAndBalance(node.right)\n",
        "\n",
        "    # баланс-фактор текущего узла\n",
        "    node.balance_factor = leftHeight - rightHeight\n",
        "\n",
        "    return 1 + max(leftHeight, rightHeight)     # высота текущего поддерева\n",
        "\n",
        "\n",
        "\n",
        "#пример (все нули означают что дерево сбалансировапно)\n",
        "root = TreeNode(4)\n",
        "root.left = TreeNode(2)\n",
        "root.left.left = TreeNode(1)\n",
        "root.left.right = TreeNode(3)\n",
        "root.right = TreeNode(6)\n",
        "root.right.left = TreeNode(5)\n",
        "root.right.right = TreeNode(7)\n",
        "\n",
        "calculateHeightsAndBalance(root)\n",
        "\n",
        "def print_balance_factors(node):\n",
        "    if node:\n",
        "        print(f\"Узел {node.val}: balance_factor = {node.balance_factor}\")\n",
        "        print_balance_factors(node.left)\n",
        "        print_balance_factors(node.right)\n",
        "\n",
        "print_balance_factors(root)"
      ],
      "metadata": {
        "colab": {
          "base_uri": "https://localhost:8080/"
        },
        "id": "fNScThNRxQps",
        "outputId": "d4cf311d-c607-4a2f-e6d2-b44cb3de1eca"
      },
      "execution_count": 6,
      "outputs": [
        {
          "output_type": "stream",
          "name": "stdout",
          "text": [
            "Узел 4: balance_factor = 0\n",
            "Узел 2: balance_factor = 0\n",
            "Узел 1: balance_factor = 0\n",
            "Узел 3: balance_factor = 0\n",
            "Узел 6: balance_factor = 0\n",
            "Узел 5: balance_factor = 0\n",
            "Узел 7: balance_factor = 0\n"
          ]
        }
      ]
    },
    {
      "cell_type": "markdown",
      "source": [
        "### Задача 5\n",
        "\n",
        "Нужно реализовать алгоритм,\n",
        "который перевернет бинарное\n",
        "дерево \"вверх ногами\", т.е.\n",
        "поменяет местами левые и правые\n",
        "поддеревья каждого узла."
      ],
      "metadata": {
        "id": "AL9nmn3nxvUH"
      }
    },
    {
      "cell_type": "code",
      "source": [
        "from collections import deque\n",
        "\n",
        "class TreeNode:\n",
        "    def __init__(self, val=0, left=None, right=None):\n",
        "        self.val = val\n",
        "        self.left = left\n",
        "        self.right = right\n",
        "\n",
        "def mirrorTreeIterative(root):\n",
        "    if not root:\n",
        "        return None\n",
        "\n",
        "    queue = deque([root])\n",
        "\n",
        "    while queue:\n",
        "        current = queue.popleft()\n",
        "\n",
        "        #меняем местами левое и правое поддерво\n",
        "        temp = current.left\n",
        "        current.left = current.right\n",
        "        current.right = temp\n",
        "\n",
        "        # добавляем дочерние узлы в очередь, если есть\n",
        "        if current.left:\n",
        "            queue.append(current.left)\n",
        "        if current.right:\n",
        "            queue.append(current.right)\n",
        "\n",
        "    return root\n",
        "\n",
        "\n",
        "# тест\n",
        "def in_order_traversal(node):\n",
        "    if node:\n",
        "        in_order_traversal(node.left)\n",
        "        print(node.val, end=' ')\n",
        "        in_order_traversal(node.right)\n",
        "\n",
        "root = TreeNode(1)\n",
        "root.left = TreeNode(2)\n",
        "root.right = TreeNode(3)\n",
        "root.left.left = TreeNode(4)\n",
        "root.left.right = TreeNode(5)\n",
        "\n",
        "print(\"Исходное дерево:\")\n",
        "in_order_traversal(root)  #Вывод: 4 2 5 1 3\n",
        "\n",
        "mirrored_root = mirrorTreeIterative(root)\n",
        "\n",
        "print(\"\\n\\nПеревернутое дерево:\")\n",
        "in_order_traversal(mirrored_root)  #Вывод: 3 1 5 2 4"
      ],
      "metadata": {
        "colab": {
          "base_uri": "https://localhost:8080/"
        },
        "id": "FHKJFgTOxvei",
        "outputId": "105e73d3-3a8a-4ba4-e3fd-c341bd5a35c9"
      },
      "execution_count": 11,
      "outputs": [
        {
          "output_type": "stream",
          "name": "stdout",
          "text": [
            "Исходное дерево:\n",
            "4 2 5 1 3 \n",
            "\n",
            "Перевернутое дерево:\n",
            "3 1 5 2 4 "
          ]
        }
      ]
    }
  ]
}