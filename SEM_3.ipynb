{
  "nbformat": 4,
  "nbformat_minor": 0,
  "metadata": {
    "colab": {
      "provenance": [],
      "toc_visible": true
    },
    "kernelspec": {
      "name": "python3",
      "display_name": "Python 3"
    },
    "language_info": {
      "name": "python"
    }
  },
  "cells": [
    {
      "cell_type": "markdown",
      "source": [
        "# Семинар 3: разбор задач"
      ],
      "metadata": {
        "id": "Dq9txrP0J1FX"
      }
    },
    {
      "cell_type": "markdown",
      "source": [
        "### Задача 1\n",
        "\n",
        "Найти корень числа (ищем **ближайшее** целое)."
      ],
      "metadata": {
        "id": "CcwfkqLVJ5Xp"
      }
    },
    {
      "cell_type": "code",
      "execution_count": 9,
      "metadata": {
        "id": "KoBtqnY2Gny2",
        "colab": {
          "base_uri": "https://localhost:8080/"
        },
        "outputId": "eaaf0ff0-6fdd-4b80-f0cc-d2a4c27c5d36"
      },
      "outputs": [
        {
          "output_type": "stream",
          "name": "stdout",
          "text": [
            "3\n",
            "3\n",
            "4\n",
            "5\n"
          ]
        }
      ],
      "source": [
        "def binary_search_sqrt(target):\n",
        "    if target < 0:\n",
        "        print(\"Отрицательное число! Ошибка!\")\n",
        "\n",
        "    l, r = 0, target\n",
        "    while l <= r:\n",
        "        mid = (l + r) // 2\n",
        "        mid_squared = mid * mid\n",
        "\n",
        "        if mid_squared > target:\n",
        "            r = mid - 1\n",
        "        elif mid_squared < target:\n",
        "            l = mid + 1\n",
        "        else:\n",
        "            return mid\n",
        "\n",
        "    # проверка ближайшего целого\n",
        "    candidate1 = r\n",
        "    candidate2 = r + 1\n",
        "    if abs(candidate2**2 - target) < abs(target - candidate1**2):\n",
        "        return candidate2\n",
        "    return candidate1\n",
        "\n",
        "# тесты\n",
        "print(binary_search_sqrt(8))   #3 (2.83)\n",
        "print(binary_search_sqrt(10))  #3 (3.16)\n",
        "print(binary_search_sqrt(15))  #4 (3.87)\n",
        "print(binary_search_sqrt(25))  #5 (точно)"
      ]
    },
    {
      "cell_type": "markdown",
      "source": [
        "### Задача 2\n",
        "\n",
        "Как быстро можно сделать N копий документа, используя два ксерокса, каждый копирует со своей скоростью (x и y минут)?\n",
        "\n",
        "Считаем, что в начале параллельная работа невозможна, так как копия единственна."
      ],
      "metadata": {
        "id": "l_FnEGS5XUfB"
      }
    },
    {
      "cell_type": "code",
      "source": [
        "def copy_time(n, x, y):\n",
        "    if n == 1:\n",
        "        return 0\n",
        "\n",
        "    l = 0\n",
        "    r = (n - 1) * max(x, y)\n",
        "\n",
        "    while l + 1 < r:\n",
        "        mid = (l + r) // 2\n",
        "        copies = mid // x + mid // y\n",
        "        if copies < n - 1:\n",
        "            l = mid\n",
        "        else:\n",
        "            r = mid\n",
        "\n",
        "    return r + min(x, y)\n",
        "\n",
        "\n",
        "#тест\n",
        "n = 4\n",
        "result = copy_time(n, 1, 3)\n",
        "print(f\"Мин. время для получения {n} копий: {result} минут(ы)\")\n"
      ],
      "metadata": {
        "colab": {
          "base_uri": "https://localhost:8080/"
        },
        "id": "msrUaxbjXUqC",
        "outputId": "5143ed06-d3a0-4614-c5c5-2b75baa46f5d"
      },
      "execution_count": 14,
      "outputs": [
        {
          "output_type": "stream",
          "name": "stdout",
          "text": [
            "Мин. время для получения 4 копий: 4 минут(ы)\n"
          ]
        }
      ]
    },
    {
      "cell_type": "markdown",
      "source": [
        "### Задача 3\n",
        "\n",
        "В небольшом зоопарке есть некоторое количество животных.\n",
        "Каждое животное потребляет какой-то объем еды, выраженный в целочисленном значении. Например, еноту нужна 1-порция еды, зебре 2, пантере 3, льву 4, жирафу 8 и т.д.\n",
        "Каждый день, смотритель зоопарка привозит еду такими же порциями. То есть за раз он привозит 8, 3, 9, 1, 7. Порция на 8 может накормить одно животное один раз. То есть такая порция может накормить либо енота, либо льва, либо жирафа, но не может накормить, например зебру и енота. Только кого-то одного.\n",
        "Надо написать функцию, которая определит, сколько из переданных животных может накормить заданное количество еды."
      ],
      "metadata": {
        "id": "rzjPLIsWgF9R"
      }
    },
    {
      "cell_type": "code",
      "source": [
        "def feed_animals(animals, food):\n",
        "    if not animals or not food:\n",
        "        return 0\n",
        "\n",
        "    animals.sort()\n",
        "    food.sort()\n",
        "\n",
        "    count = 0\n",
        "    for f in food:\n",
        "        if f >= animals[count]:\n",
        "            count += 1\n",
        "            if count == len(animals):\n",
        "                break\n",
        "\n",
        "    return count\n",
        "\n",
        "print(feed_animals([1, 2, 3], [8, 3, 9, 1, 7])) #3\n",
        "print(feed_animals([3, 3], [2, 3, 3]))          #2\n",
        "print(feed_animals([5], [1, 2, 3, 4]))          #0\n",
        "print(feed_animals([2, 2], [1, 1, 2, 3]))       #2"
      ],
      "metadata": {
        "colab": {
          "base_uri": "https://localhost:8080/"
        },
        "id": "LYFFZMzCgGP5",
        "outputId": "05caaa82-667b-4b64-a990-b60bb66368cd"
      },
      "execution_count": 16,
      "outputs": [
        {
          "output_type": "stream",
          "name": "stdout",
          "text": [
            "3\n",
            "2\n",
            "0\n",
            "2\n"
          ]
        }
      ]
    },
    {
      "cell_type": "markdown",
      "source": [
        "### Задача 4\n",
        "\n",
        "На вход функции подается две строки: a и b. Строка b образована из строки a путем перемешивания и добавления одной буквы. Необходимо вернуть эту букву."
      ],
      "metadata": {
        "id": "tz3ne0gFhM12"
      }
    },
    {
      "cell_type": "code",
      "source": [
        "def extra_letter(a: str, b: str) -> str:\n",
        "    char_count = {}\n",
        "    for char in a:\n",
        "        char_count[char] = char_count.get(char, 0) + 1\n",
        "\n",
        "    for char in b:\n",
        "        if char not in char_count or char_count[char] == 0:\n",
        "            return char\n",
        "        char_count[char] -= 1\n",
        "        if char_count[char] == 0:\n",
        "            del char_count[char]\n",
        "\n",
        "    return b[-1]\n",
        "\n",
        "# тесты\n",
        "print(extra_letter(\"abcd\", \"abcde\"))  # 'e'\n",
        "print(extra_letter(\"a\", \"aa\"))        # 'a'\n",
        "print(extra_letter(\"abc\", \"abxac\"))   # 'x'"
      ],
      "metadata": {
        "colab": {
          "base_uri": "https://localhost:8080/"
        },
        "id": "SOumzvdVhNFu",
        "outputId": "8ae8d75e-29e8-46a2-8f19-4eaafa746c6d"
      },
      "execution_count": 17,
      "outputs": [
        {
          "output_type": "stream",
          "name": "stdout",
          "text": [
            "e\n",
            "a\n",
            "x\n"
          ]
        }
      ]
    },
    {
      "cell_type": "markdown",
      "source": [
        "### Задача 5\n",
        "\n",
        "Дан не отсортированный массив целых чисел и некоторое число target. Необходимо написать функцию, которая найдет два таких элемента в массиве, сумма которых будет равна target.\n",
        "Один элемент можно использовать лишь один раз. В случае если два таких элемента не нашлось, возвращаем пустой массив.\n"
      ],
      "metadata": {
        "id": "8u8F9UMlhy9w"
      }
    },
    {
      "cell_type": "code",
      "source": [
        "def two_sum(data, target):\n",
        "    num_map = {}\n",
        "    for i, num in enumerate(data):\n",
        "        diff = target - num\n",
        "        if diff in num_map:\n",
        "            return [num_map[diff], i]\n",
        "        num_map[num] = i\n",
        "    return []\n",
        "\n",
        "# тесты\n",
        "print(two_sum([2, 7, 11, 15], 9))   # [0, 1]\n",
        "print(two_sum([3, 2, 4], 6))        # [1, 2]\n",
        "print(two_sum([3], 6))              # []"
      ],
      "metadata": {
        "colab": {
          "base_uri": "https://localhost:8080/"
        },
        "id": "qc5HFoFChzNE",
        "outputId": "2e86b0e5-fe51-4a95-c4ac-178ff773880b"
      },
      "execution_count": 18,
      "outputs": [
        {
          "output_type": "stream",
          "name": "stdout",
          "text": [
            "[0, 1]\n",
            "[1, 2]\n",
            "[]\n"
          ]
        }
      ]
    },
    {
      "cell_type": "markdown",
      "source": [
        "### Задача 6\n",
        "\n",
        "Дан массив строк strs. Сгруппируйте анаграммы вместе. Вы можете вернуть ответ в любом порядке.\n",
        "\n",
        "Анаграмма - это слово или фраза, полученная путем перестановки букв другого слова или фразы, обычно с использованием всех исходных букв ровно один раз.\n",
        "\n",
        "Входные данные: [\"eat\",\"tea\",\"tan\",\"ate\",\"nat\",\"bat\"]\n",
        "Выходные: [[\"bat\"],[\"nat\",\"tan\"],[\"ate\",\"eat\",\"tea\"]]\n",
        "\n",
        "Входные данные: [\"won\",\"now\",\"aaa\",\"ooo\",\"ooo\"]\n",
        "Выходные: [[\"aaa\"],[\"ooo\", \"ooo\"],[\"won\",\"now\"]]\n"
      ],
      "metadata": {
        "id": "erLfWgVJi7Kz"
      }
    },
    {
      "cell_type": "code",
      "source": [
        "def group_anagrams(strs):\n",
        "    groups = {}\n",
        "    for word in strs:\n",
        "        key = ''.join(sorted(word))\n",
        "        if key in groups:\n",
        "            groups[key].append(word)\n",
        "        else:\n",
        "            groups[key] = [word]\n",
        "    return list(groups.values())\n",
        "\n",
        "\n",
        "\n",
        "# тесты\n",
        "input1 = [\"eat\", \"tea\", \"tan\", \"ate\", \"nat\", \"bat\"]\n",
        "print(group_anagrams(input1))  # Вывод: [[\"eat\", \"tea\", \"ate\"], [\"tan\", \"nat\"], [\"bat\"]]\n",
        "\n",
        "input2 = [\"won\", \"now\", \"aaa\", \"ooo\", \"ooo\"]\n",
        "print(group_anagrams(input2))  # Вывод: [[\"won\", \"now\"], [\"aaa\"], [\"ooo\", \"ooo\"]]"
      ],
      "metadata": {
        "colab": {
          "base_uri": "https://localhost:8080/"
        },
        "id": "saW_NPV_i7WJ",
        "outputId": "831f345e-247c-46fe-b49d-0757413273d1"
      },
      "execution_count": 19,
      "outputs": [
        {
          "output_type": "stream",
          "name": "stdout",
          "text": [
            "[['eat', 'tea', 'ate'], ['tan', 'nat'], ['bat']]\n",
            "[['won', 'now'], ['aaa'], ['ooo', 'ooo']]\n"
          ]
        }
      ]
    }
  ]
}