{
  "nbformat": 4,
  "nbformat_minor": 0,
  "metadata": {
    "colab": {
      "provenance": [],
      "toc_visible": true
    },
    "kernelspec": {
      "name": "python3",
      "display_name": "Python 3"
    },
    "language_info": {
      "name": "python"
    }
  },
  "cells": [
    {
      "cell_type": "markdown",
      "source": [
        "# Семинар 7: разбор задач"
      ],
      "metadata": {
        "id": "Dq9txrP0J1FX"
      }
    },
    {
      "cell_type": "markdown",
      "source": [
        "### Задача 1\n",
        "\n",
        "Дан граф. Необходимо подсчитать количество компонент связности."
      ],
      "metadata": {
        "id": "CcwfkqLVJ5Xp"
      }
    },
    {
      "cell_type": "code",
      "execution_count": 3,
      "metadata": {
        "id": "KoBtqnY2Gny2",
        "colab": {
          "base_uri": "https://localhost:8080/"
        },
        "outputId": "da57273d-5cf2-4f8d-de97-8befd0b776bd"
      },
      "outputs": [
        {
          "output_type": "stream",
          "name": "stdout",
          "text": [
            "[[0, 1, 2], [3, 4], [5]]\n"
          ]
        }
      ],
      "source": [
        "def find_connected_components(graph):\n",
        "    visited = [False] * len(graph)\n",
        "    components = []\n",
        "    def dfs(v):\n",
        "        visited[v] = True\n",
        "        component.append(v)\n",
        "        for neighbor in graph[v]:\n",
        "            if not visited[neighbor]:\n",
        "                dfs(neighbor)\n",
        "    for node in range(len(graph)):\n",
        "        if not visited[node]:\n",
        "            component = []\n",
        "            dfs(node)\n",
        "            components.append(component)\n",
        "\n",
        "    return components\n",
        "\n",
        "#ТЕСТ\n",
        "graph = [\n",
        "    [1],       # 0 -> 1\n",
        "    [0, 2],    # 1 -> 0, 2\n",
        "    [1],       # 2 -> 1\n",
        "    [4],       # 3 -> 4\n",
        "    [3],       # 4 -> 3\n",
        "    []         # 5\n",
        "]\n",
        "print(find_connected_components(graph)) # должно быть [[0, 1, 2], [3, 4], [5]]"
      ]
    },
    {
      "cell_type": "markdown",
      "source": [
        "### Задача 2\n",
        "\n",
        "Дан граф в виде списка вершин. Необходимо понять, есть ли в этом графе цикл."
      ],
      "metadata": {
        "id": "lAU073iY7IxV"
      }
    },
    {
      "cell_type": "code",
      "source": [
        "def has_cycle(graph):\n",
        "    visited = set()\n",
        "    def dfs(vertex, parent):\n",
        "        visited.add(vertex)\n",
        "        for neighbor in graph.get(vertex, []):\n",
        "            if neighbor == parent:\n",
        "                continue\n",
        "            if neighbor in visited:\n",
        "                return True  # цикл?!\n",
        "            if dfs(neighbor, vertex):\n",
        "                return True\n",
        "        return False\n",
        "    for vertex in graph:\n",
        "        if vertex not in visited:\n",
        "            if dfs(vertex, None):\n",
        "                return True\n",
        "    return False\n",
        "\n",
        "\n",
        "#ТЕСТЫ\n",
        "\n",
        "# с циклом\n",
        "graph1 = { 0: [1, 2], 1: [0, 2], 2: [0, 1] }\n",
        "print(has_cycle(graph1))  #True\n",
        "\n",
        "# без цикла\n",
        "graph2 = { 0: [1], 1: [0, 2], 2: [1] }\n",
        "print(has_cycle(graph2))  #False"
      ],
      "metadata": {
        "colab": {
          "base_uri": "https://localhost:8080/"
        },
        "id": "bFRElwgl7I8w",
        "outputId": "c6efed45-2552-4e20-a4a2-89329798ace4"
      },
      "execution_count": 7,
      "outputs": [
        {
          "output_type": "stream",
          "name": "stdout",
          "text": [
            "True\n",
            "False\n"
          ]
        }
      ]
    },
    {
      "cell_type": "markdown",
      "source": [
        "### Задача 3\n",
        "\n",
        "Является ли граф деревом?"
      ],
      "metadata": {
        "id": "QHn8bSi07yzX"
      }
    },
    {
      "cell_type": "code",
      "source": [
        "from collections import deque\n",
        "\n",
        "def is_tree(graph):\n",
        "    if not graph:\n",
        "        return True\n",
        "\n",
        "    n = len(graph)\n",
        "    if n == 0:\n",
        "        return True\n",
        "\n",
        "    # проверка числа ребер\n",
        "    edge_count = sum(len(edges) for edges in graph) // 2\n",
        "    if edge_count != n - 1:\n",
        "        return False\n",
        "\n",
        "    visited = [False] * n\n",
        "    parent = [-1] * n\n",
        "    queue = deque([0])\n",
        "    visited[0] = True\n",
        "\n",
        "    while queue:\n",
        "        vertex = queue.popleft()\n",
        "        for neighbor in graph[vertex]:\n",
        "            if not visited[neighbor]:\n",
        "                visited[neighbor] = True\n",
        "                parent[neighbor] = vertex\n",
        "                queue.append(neighbor)\n",
        "            elif parent[vertex] != neighbor:\n",
        "                return False\n",
        "\n",
        "    return all(visited)\n",
        "\n",
        "\n",
        "#примеры\n",
        "graph1 = [[1], [0, 2], [1]]\n",
        "print(is_tree(graph1)) # True\n",
        "\n",
        "graph2 = [[1, 2], [0, 2], [0, 1]]   # цикл из 3 узлов\n",
        "print(is_tree(graph2))  # False\n",
        "\n",
        "graph3 = [[1], [0, 2], [1, 3], [2]]\n",
        "print(is_tree(graph3)) # True"
      ],
      "metadata": {
        "colab": {
          "base_uri": "https://localhost:8080/"
        },
        "id": "y5T-QJWd7y9h",
        "outputId": "b7c724e8-8c06-4aa9-c397-f2ebe22b858a"
      },
      "execution_count": 8,
      "outputs": [
        {
          "output_type": "stream",
          "name": "stdout",
          "text": [
            "True\n",
            "False\n",
            "True\n"
          ]
        }
      ]
    },
    {
      "cell_type": "markdown",
      "source": [
        "### Задача 4\n",
        "\n",
        "Необходимо найти кратчайший путь из заданной точки."
      ],
      "metadata": {
        "id": "x59qmAAi8Z7U"
      }
    },
    {
      "cell_type": "code",
      "source": [
        "import heapq\n",
        "\n",
        "def dijkstra(graph, start):\n",
        "    distances = {vertex: float('infinity') for vertex in graph}\n",
        "    distances[start] = 0  # расстояние до стартовой точки = 0\n",
        "\n",
        "    priority_queue = [(0, start)]\n",
        "\n",
        "    while priority_queue:\n",
        "        current_distance, current_vertex = heapq.heappop(priority_queue)\n",
        "\n",
        "        if current_distance > distances[current_vertex]:\n",
        "            continue\n",
        "\n",
        "        for neighbor, weight in graph.get(current_vertex, {}).items():\n",
        "            distance = current_distance + weight\n",
        "            if distance < distances[neighbor]:\n",
        "                distances[neighbor] = distance\n",
        "                heapq.heappush(priority_queue, (distance, neighbor))\n",
        "\n",
        "    return distances\n",
        "\n",
        "# тест\n",
        "graph = {\n",
        "    'A': {'B': 1, 'C': 4},\n",
        "    'B': {'A': 1, 'C': 2, 'D': 5},\n",
        "    'C': {'A': 4, 'B': 2, 'D': 1},\n",
        "    'D': {'B': 5, 'C': 1}\n",
        "}\n",
        "shortest_distances = dijkstra(graph, 'A')\n",
        "print(shortest_distances)   # {'A': 0, 'B': 1, 'C': 3, 'D': 4}"
      ],
      "metadata": {
        "colab": {
          "base_uri": "https://localhost:8080/"
        },
        "id": "_4zpB_Vu8aFe",
        "outputId": "14071e51-55ea-4bbd-e898-ced68ad5c1d7"
      },
      "execution_count": 9,
      "outputs": [
        {
          "output_type": "stream",
          "name": "stdout",
          "text": [
            "{'A': 0, 'B': 1, 'C': 3, 'D': 4}\n"
          ]
        }
      ]
    },
    {
      "cell_type": "markdown",
      "source": [
        "### Задача 5\n",
        "\n",
        "Дан неориентированный граф. Необходимо написать\n",
        "функцию, которая вернет true, если граф является\n",
        "двудольным."
      ],
      "metadata": {
        "id": "A_6K-_vM9H7_"
      }
    },
    {
      "cell_type": "code",
      "source": [
        "def isBipartite(graph):\n",
        "    n = len(graph)\n",
        "    colors = [0] * n                    # 0 - не окрашено, 1 и -1 цвета групп\n",
        "\n",
        "    def dfs(node, c):\n",
        "        colors[node] = c\n",
        "        for neighbor in graph[node]:\n",
        "            if colors[neighbor] == 0:\n",
        "                if not dfs(neighbor, -c):\n",
        "                    return False\n",
        "            elif colors[neighbor] == colors[node]:\n",
        "                return False\n",
        "        return True\n",
        "\n",
        "    for i in range(n):\n",
        "        if colors[i] == 0:\n",
        "            if not dfs(i, 1):\n",
        "                return False\n",
        "    return True\n",
        "\n",
        "# ПРИМЕРЫ\n",
        "print(isBipartite([[1,3], [0,2], [1,3], [0,2]]))  #True (двудольный)\n",
        "print(isBipartite([[1,2,3], [0,2], [0,1,3], [0,2]]))  #False (нечётный цикл)\n",
        "print(isBipartite([[], []]))  #True (2 изолированные вершины)"
      ],
      "metadata": {
        "colab": {
          "base_uri": "https://localhost:8080/"
        },
        "id": "k_pQri5x9IF7",
        "outputId": "ca96b928-4ce3-4c11-d2ad-6cd89b9dd617"
      },
      "execution_count": 12,
      "outputs": [
        {
          "output_type": "stream",
          "name": "stdout",
          "text": [
            "True\n",
            "False\n",
            "True\n"
          ]
        }
      ]
    }
  ]
}