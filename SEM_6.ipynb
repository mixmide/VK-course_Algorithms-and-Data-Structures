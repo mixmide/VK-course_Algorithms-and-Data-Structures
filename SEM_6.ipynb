{
  "nbformat": 4,
  "nbformat_minor": 0,
  "metadata": {
    "colab": {
      "provenance": [],
      "toc_visible": true
    },
    "kernelspec": {
      "name": "python3",
      "display_name": "Python 3"
    },
    "language_info": {
      "name": "python"
    }
  },
  "cells": [
    {
      "cell_type": "markdown",
      "source": [
        "# Семинар 6: разбор задач"
      ],
      "metadata": {
        "id": "Dq9txrP0J1FX"
      }
    },
    {
      "cell_type": "markdown",
      "source": [
        "### Задача 1\n",
        "\n",
        "Требуется подсчитать количество последовательностей длины N состоящей из 0 и 1, в которых нет стоящих подряд двух единиц."
      ],
      "metadata": {
        "id": "CcwfkqLVJ5Xp"
      }
    },
    {
      "cell_type": "code",
      "execution_count": 7,
      "metadata": {
        "id": "KoBtqnY2Gny2",
        "colab": {
          "base_uri": "https://localhost:8080/"
        },
        "outputId": "463bbeb7-fa25-4b45-aedb-23c7ef079f00"
      },
      "outputs": [
        {
          "output_type": "stream",
          "name": "stdout",
          "text": [
            "5\n",
            "ОШИБКА: введен n < 0\n",
            "1\n"
          ]
        }
      ],
      "source": [
        "def b_sequences(n):\n",
        "    if n < 0:\n",
        "        return \"ОШИБКА: введен n < 0\"\n",
        "    elif n == 0:\n",
        "        return 1\n",
        "    elif n == 1:\n",
        "        return 2\n",
        "\n",
        "    dp = [1, 2]\n",
        "    for i in range(2, n + 1):\n",
        "        dp.append(dp[i-1] + dp[i-2])\n",
        "\n",
        "    return dp[n]\n",
        "\n",
        "\n",
        "#тесты\n",
        "print(b_sequences(3))  #верный ответ 5\n",
        "print(b_sequences(-1)) #ошибка!\n",
        "print(b_sequences(0))  #верный ответ 1"
      ]
    },
    {
      "cell_type": "markdown",
      "source": [
        "### Задача 2\n",
        "\n",
        "Определите количество последовательностей из нулей и единиц длины, в которых никакие три единицы не стоят рядом."
      ],
      "metadata": {
        "id": "uu6ZJyFExgQY"
      }
    },
    {
      "cell_type": "code",
      "source": [
        "def count_sequences(n):\n",
        "    if n < 0:\n",
        "        return \"ОШИБКА: введен n < 0\"\n",
        "    elif n == 0:\n",
        "        return 1\n",
        "    elif n == 1:\n",
        "        return 2\n",
        "    elif n == 2:\n",
        "        return 4\n",
        "\n",
        "    dp = [1, 2, 4]\n",
        "    for i in range(3, n + 1):\n",
        "        next_val = dp[-1] + dp[-2] + dp[-3]\n",
        "        dp.append(next_val)\n",
        "\n",
        "    return dp[n]\n",
        "\n",
        "\n",
        "#тесты\n",
        "print(count_sequences(3))   #ответ 7\n",
        "print(count_sequences(4))   #ответ 13"
      ],
      "metadata": {
        "colab": {
          "base_uri": "https://localhost:8080/"
        },
        "id": "_jUHscbuxgai",
        "outputId": "38ff60a7-c9c3-4332-de65-f0d78491ee92"
      },
      "execution_count": 10,
      "outputs": [
        {
          "output_type": "stream",
          "name": "stdout",
          "text": [
            "7\n",
            "13\n"
          ]
        }
      ]
    },
    {
      "cell_type": "markdown",
      "source": [
        "### Задача 3\n",
        "\n",
        "Дан массив неотсортированных чисел. Необходимо найти максимально длинную непрерывную возрастающую последовательность и вернуть ее длину.\n",
        "\n",
        "[3, 2, 8, 9, 5, 10] - ответ 3, так как максимально длинная последовательность\n",
        "2, 8, 9\n",
        "\n",
        "[1, 2, 7, 9, 0, 10] - ответ 4, так как максимально длинная последовательность\n",
        "1, 2, 7, 9\n",
        "\n",
        "[8, 8, 8, 8] - ответ 1.\n"
      ],
      "metadata": {
        "id": "tsXQ1M6FzCFC"
      }
    },
    {
      "cell_type": "code",
      "source": [
        "def findLIS(nums):\n",
        "    if not nums:\n",
        "        return 0\n",
        "    n = len(nums)\n",
        "    if n == 1:\n",
        "        return 1\n",
        "\n",
        "    dp = [1] * n\n",
        "\n",
        "    for i in range(1, n):\n",
        "        if nums[i] > nums[i-1]:\n",
        "            dp[i] = dp[i-1] + 1\n",
        "\n",
        "    return max(dp)\n",
        "\n",
        "\n",
        "# тесты\n",
        "print(findLIS([3, 2, 8, 9, 5, 10]))   #3\n",
        "print(findLIS([1, 2, 7, 9, 0, 10]))   #4\n",
        "print(findLIS([8, 8, 8, 8]))          #1"
      ],
      "metadata": {
        "colab": {
          "base_uri": "https://localhost:8080/"
        },
        "id": "-02EyjPczCRH",
        "outputId": "58f25751-459e-40ef-c57b-b2c80ee35cfb"
      },
      "execution_count": 11,
      "outputs": [
        {
          "output_type": "stream",
          "name": "stdout",
          "text": [
            "3\n",
            "4\n",
            "1\n"
          ]
        }
      ]
    },
    {
      "cell_type": "markdown",
      "source": [
        "### Задача 4\n",
        "\n",
        "Дано некоторое число n. Необходимо создать треугольник Паскаля состоящего из n строк."
      ],
      "metadata": {
        "id": "McWK2R8o0Cb2"
      }
    },
    {
      "cell_type": "code",
      "source": [
        "def generate_pascal_triangle(n):\n",
        "    if n == 0:\n",
        "        return []\n",
        "\n",
        "    # треугольник с 1 по краям\n",
        "    dp = []\n",
        "    for i in range(n):\n",
        "        dp.append([1] * (i + 1))\n",
        "\n",
        "    #внутренности\n",
        "    for row in range(2, n):\n",
        "        for col in range(1, row):\n",
        "            dp[row][col] = dp[row-1][col-1] + dp[row-1][col]\n",
        "\n",
        "    return dp\n",
        "\n",
        "#тест\n",
        "n = 6\n",
        "triangle = generate_pascal_triangle(n)\n",
        "for row in triangle:\n",
        "    print(row)"
      ],
      "metadata": {
        "colab": {
          "base_uri": "https://localhost:8080/"
        },
        "id": "yH0PLJDv0Cmr",
        "outputId": "2ddd9496-9b73-4e37-f38d-8b4e568a2b0f"
      },
      "execution_count": 13,
      "outputs": [
        {
          "output_type": "stream",
          "name": "stdout",
          "text": [
            "[1]\n",
            "[1, 1]\n",
            "[1, 2, 1]\n",
            "[1, 3, 3, 1]\n",
            "[1, 4, 6, 4, 1]\n",
            "[1, 5, 10, 10, 5, 1]\n"
          ]
        }
      ]
    },
    {
      "cell_type": "markdown",
      "source": [
        "### Задача 5\n",
        "\n",
        "Дан массив целых чисел. Каждое число - стоимость акции. Нам нужно купить максимально дешево, а продать максимально дорого. Сделать это надо за O(n)."
      ],
      "metadata": {
        "id": "OI2d_WHG1v-0"
      }
    },
    {
      "cell_type": "code",
      "source": [
        "def maxProfit(prices):\n",
        "    if not prices:\n",
        "        return 0\n",
        "    profit = 0\n",
        "    min_price = prices[0]\n",
        "    for price in prices[1:]:\n",
        "        profit = max(profit, price - min_price)\n",
        "        min_price = min(price, min_price)\n",
        "\n",
        "    return profit\n",
        "\n",
        "# тест\n",
        "prices = [8, 9, 3, 7, 4, 16, 12]\n",
        "print(maxProfit(prices))  # ответ 13"
      ],
      "metadata": {
        "colab": {
          "base_uri": "https://localhost:8080/"
        },
        "id": "rz1Pft_I1wIs",
        "outputId": "05455a12-4c4a-4c2e-d700-89976fd3d5d1"
      },
      "execution_count": 16,
      "outputs": [
        {
          "output_type": "stream",
          "name": "stdout",
          "text": [
            "13\n"
          ]
        }
      ]
    },
    {
      "cell_type": "markdown",
      "source": [
        "### Задача 6\n",
        "\n",
        "Дан массив целых чисел coin, где каждое число - номинал монеты и некоторое число amount - сумма монет из массива. Необходимо найти наименьшее количество монет, которое в сумме дало бы amount. Если такой комбинации нет - возвращаем -1."
      ],
      "metadata": {
        "id": "MGQ2H8EW254f"
      }
    },
    {
      "cell_type": "code",
      "source": [
        "def coinChange(coins, amount):\n",
        "    def helper(amount, cache):\n",
        "        if amount < 0:\n",
        "            return -1\n",
        "        if amount == 0:\n",
        "            return 0\n",
        "        if amount in cache:\n",
        "            return cache[amount]\n",
        "        min_coins = float('inf')\n",
        "        for coin in coins:\n",
        "            res = helper(amount - coin, cache)\n",
        "            if res != -1:\n",
        "                min_coins = min(min_coins, res + 1)\n",
        "        if min_coins == float('inf'):\n",
        "            cache[amount] = -1\n",
        "        else:\n",
        "            cache[amount] = min_coins\n",
        "        return cache[amount]\n",
        "\n",
        "    return helper(amount, {})\n",
        "\n",
        "\n",
        "#тесты\n",
        "print(coinChange([1, 2, 5], 11))  #3 (5 + 5 + 1)\n",
        "print(coinChange([2], 3))         # -1 (нельзя набрать 3 монетами номиналом 2)\n",
        "print(coinChange([1], 0))         #  0\n",
        "print(coinChange([], 5))          # -1 (нет монет)"
      ],
      "metadata": {
        "colab": {
          "base_uri": "https://localhost:8080/"
        },
        "id": "RcXsYLpR26DY",
        "outputId": "cc3bccb1-c7e8-4fb5-e4a3-320c71c07fb8"
      },
      "execution_count": 18,
      "outputs": [
        {
          "output_type": "stream",
          "name": "stdout",
          "text": [
            "3\n",
            "-1\n",
            "0\n",
            "-1\n"
          ]
        }
      ]
    },
    {
      "cell_type": "markdown",
      "source": [
        "### Задача 7\n",
        "\n",
        "Дана строка s. Необходимо найти максимальную подстроку, которая является палиндромом."
      ],
      "metadata": {
        "id": "iYbatEKC39EW"
      }
    },
    {
      "cell_type": "code",
      "source": [
        "def longestPalindrome(s: str) -> str:\n",
        "    if not s or len(s) < 1:\n",
        "        return \"\"\n",
        "    current_max_left = 0\n",
        "    current_max_right = 0\n",
        "    def expand_around_center(left: int, right: int):\n",
        "        nonlocal current_max_left, current_max_right\n",
        "        while left >= 0 and right < len(s) and s[left] == s[right]:\n",
        "            if (right - left) > (current_max_right - current_max_left):\n",
        "                current_max_left = left\n",
        "                current_max_right = right\n",
        "            left -= 1\n",
        "            right += 1\n",
        "\n",
        "    for i in range(len(s)):\n",
        "        # это случай нечетной длины: центр в i\n",
        "        expand_around_center(i, i)\n",
        "        # это случай четной длины: центр между i и i + 1\n",
        "        expand_around_center(i, i + 1)\n",
        "\n",
        "    return s[current_max_left : current_max_right + 1]\n",
        "\n",
        "\n",
        "#тесты\n",
        "print(longestPalindrome(\"babad\"))  # bab / aba\n",
        "print(longestPalindrome(\"cbbd\"))   # bb\n",
        "print(longestPalindrome(\"a\"))      # a\n",
        "print(longestPalindrome(\"ac\"))     # a/c\n",
        "print(longestPalindrome(\"\"))       #пусто"
      ],
      "metadata": {
        "colab": {
          "base_uri": "https://localhost:8080/"
        },
        "id": "b_VVJt_439Pe",
        "outputId": "f54408a5-1b29-45a4-cba3-1e86dea0c7ef"
      },
      "execution_count": 20,
      "outputs": [
        {
          "output_type": "stream",
          "name": "stdout",
          "text": [
            "bab\n",
            "bb\n",
            "a\n",
            "a\n",
            "\n"
          ]
        }
      ]
    }
  ]
}