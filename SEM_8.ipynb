{
  "nbformat": 4,
  "nbformat_minor": 0,
  "metadata": {
    "colab": {
      "provenance": [],
      "toc_visible": true
    },
    "kernelspec": {
      "name": "python3",
      "display_name": "Python 3"
    },
    "language_info": {
      "name": "python"
    }
  },
  "cells": [
    {
      "cell_type": "markdown",
      "source": [
        "# Семинар 8: разбор задач"
      ],
      "metadata": {
        "id": "Dq9txrP0J1FX"
      }
    },
    {
      "cell_type": "markdown",
      "source": [
        "### Задача 1\n",
        "\n",
        "Дан массив целых чисел arr и число k.\n",
        "Требуется найти максимальную сумму среди всех возможных подмассивов длины k."
      ],
      "metadata": {
        "id": "CcwfkqLVJ5Xp"
      }
    },
    {
      "cell_type": "code",
      "source": [
        "def maxSubarraySum(arr, k):\n",
        "    if len(arr) < k or k <= 0:\n",
        "        return None  # нельзя найти подмассив длины k\n",
        "\n",
        "    current_sum = sum(arr[:k])\n",
        "    max_sum = current_sum\n",
        "\n",
        "    for i in range(k, len(arr)):\n",
        "        current_sum = current_sum - arr[i - k] + arr[i]\n",
        "        max_sum = max(max_sum, current_sum)\n",
        "\n",
        "    return max_sum\n",
        "\n",
        "#тесты\n",
        "print(maxSubarraySum([1, 2, 3, 4, 5], 2))  # 9\n",
        "print(maxSubarraySum([2, 1, 5, 1, 3, 2], 3))  # 9\n",
        "print(maxSubarraySum([1, 2], 3))  # None (недостаточно элементов)\n",
        "print(maxSubarraySum([3, 3, 3, 3], 4))  # 12 (сумма всех элементов)"
      ],
      "metadata": {
        "colab": {
          "base_uri": "https://localhost:8080/"
        },
        "id": "9rpdgvHc-Mvk",
        "outputId": "7cd66977-cbd1-4556-8a0b-d54474af28d1"
      },
      "execution_count": 5,
      "outputs": [
        {
          "output_type": "stream",
          "name": "stdout",
          "text": [
            "9\n",
            "9\n",
            "None\n",
            "12\n"
          ]
        }
      ]
    },
    {
      "cell_type": "markdown",
      "source": [
        "### Задача 2\n",
        "\n",
        "Дан массив целых чисел nums и целое\n",
        "число k. Найдите количество\n",
        "непрерывных подмассивов, сумма\n",
        "которых равна k."
      ],
      "metadata": {
        "id": "vjqOpJaa-M_A"
      }
    },
    {
      "cell_type": "code",
      "source": [
        "from collections import defaultdict\n",
        "\n",
        "def subarraySum(nums, k):\n",
        "    prefix_count = defaultdict(int)\n",
        "    prefix_count[0] = 1  # база\n",
        "    prefix_sum = 0\n",
        "    count = 0\n",
        "    for num in nums:\n",
        "        prefix_sum += num\n",
        "        count += prefix_count[prefix_sum - k]\n",
        "        prefix_count[prefix_sum] += 1\n",
        "\n",
        "    return count\n",
        "\n",
        "#тесты\n",
        "print(subarraySum([1, 1, 1], 2))                # 2\n",
        "print(subarraySum([3, 4, 7, 2, -3, 1, 4, 2], 7))  # 4\n",
        "print(subarraySum([], 0))              # 0"
      ],
      "metadata": {
        "colab": {
          "base_uri": "https://localhost:8080/"
        },
        "id": "QnuQ6gGp-NKm",
        "outputId": "0f42285e-33d6-4341-dfdb-63e43e71a918"
      },
      "execution_count": 1,
      "outputs": [
        {
          "output_type": "stream",
          "name": "stdout",
          "text": [
            "2\n",
            "4\n",
            "0\n"
          ]
        }
      ]
    },
    {
      "cell_type": "markdown",
      "source": [
        "### Задача 3\n",
        "\n",
        "Дан бинарный массив nums. Найдите максимальную длину подмассива с одинаковым количеством 0 и 1."
      ],
      "metadata": {
        "id": "FSN4U1wH_BEg"
      }
    },
    {
      "cell_type": "code",
      "source": [
        "def findMaxLength(nums):\n",
        "    index_map = {0: -1}\n",
        "    prefix_sum = 0\n",
        "    max_len = 0\n",
        "    for i, num in enumerate(nums):\n",
        "        prefix_sum += -1 if num == 0 else 1\n",
        "        if prefix_sum in index_map:\n",
        "            max_len = max(max_len, i - index_map[prefix_sum])\n",
        "        else:\n",
        "            index_map[prefix_sum] = i\n",
        "\n",
        "    return max_len\n",
        "\n",
        "\n",
        "#тесты\n",
        "print(findMaxLength([0, 1]))\n",
        "print(findMaxLength([0, 0, 1, 0, 0, 0, 1, 1]))\n",
        "print(findMaxLength([1, 1, 1, 0, 0, 0]))\n",
        "print(findMaxLength([]))"
      ],
      "metadata": {
        "colab": {
          "base_uri": "https://localhost:8080/"
        },
        "id": "cxRCpRni_BOq",
        "outputId": "9a6991e0-c56f-45b9-ae57-af09c29f6302"
      },
      "execution_count": 8,
      "outputs": [
        {
          "output_type": "stream",
          "name": "stdout",
          "text": [
            "2\n",
            "6\n",
            "6\n",
            "0\n"
          ]
        }
      ]
    },
    {
      "cell_type": "markdown",
      "source": [
        "### Задача 4\n",
        "\n",
        "Индекс поворота массива. Индекс поворота — это индекс, где сумма всех чисел строго слева от индекса равна сумме всех чисел строго справа от индекса."
      ],
      "metadata": {
        "id": "TZgIL9Tn_tzd"
      }
    },
    {
      "cell_type": "code",
      "source": [
        "def pivotIndex(nums):\n",
        "    total_sum = sum(nums)\n",
        "    left_sum = 0\n",
        "    for i, num in enumerate(nums):\n",
        "        # сумма слева == сумма справа\n",
        "        if left_sum == total_sum - left_sum - num:\n",
        "            return i\n",
        "        left_sum += num  # обновлляем сумму слева для следующего шага\n",
        "\n",
        "    return -1\n",
        "\n",
        "# ТЕСТЫ\n",
        "print(pivotIndex([1, 7, 3, 6, 5, 6]))  # 3\n",
        "print(pivotIndex([1, 2, 3]))        # -1\n",
        "print(pivotIndex([2, 1, -1]))        # 0"
      ],
      "metadata": {
        "colab": {
          "base_uri": "https://localhost:8080/"
        },
        "id": "Gazfs3E9_t-K",
        "outputId": "231eb227-d3f8-4bdd-e4b9-02a0fe3b5d2c"
      },
      "execution_count": 9,
      "outputs": [
        {
          "output_type": "stream",
          "name": "stdout",
          "text": [
            "3\n",
            "-1\n",
            "0\n"
          ]
        }
      ]
    },
    {
      "cell_type": "markdown",
      "source": [
        "### Задача 5\n",
        "\n",
        "Дана строка из символов '(' и ')'. Разрешено удалить не более k символов. Можно ли сделать её правильной скобочной последовательностью?"
      ],
      "metadata": {
        "id": "MjxGTDTzAQUj"
      }
    },
    {
      "cell_type": "code",
      "source": [
        "def canMakeValidWithDeletions(s: str, k: int) -> bool:\n",
        "    balance = 0        # это баланс открытых скобок\n",
        "    extra_closed = 0  # лишние закрытые скобки, которые не могут быть сопоставлены\n",
        "    for char in s:\n",
        "        if char == '(':\n",
        "            balance += 1\n",
        "        else:\n",
        "            if balance > 0:\n",
        "                balance -= 1       # сопоставляем с открытой скобкой\n",
        "            else:\n",
        "                extra_closed += 1  # учитываем как лишнюю закрытую\n",
        "\n",
        "    total_needed = balance + extra_closed\n",
        "    return total_needed <= k\n",
        "\n",
        "\n",
        "\n",
        "print(canMakeValidWithDeletions(\"())\", 1))          #True\n",
        "print(canMakeValidWithDeletions(\"(((\", 3))          # True\n",
        "print(canMakeValidWithDeletions(\")(\", 1))           # False"
      ],
      "metadata": {
        "colab": {
          "base_uri": "https://localhost:8080/"
        },
        "id": "ZV859f7WAQfx",
        "outputId": "90a131ac-a241-4443-80b7-5f2002d366da"
      },
      "execution_count": 12,
      "outputs": [
        {
          "output_type": "stream",
          "name": "stdout",
          "text": [
            "True\n",
            "True\n",
            "False\n"
          ]
        }
      ]
    }
  ]
}